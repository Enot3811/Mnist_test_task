{
  "nbformat": 4,
  "nbformat_minor": 0,
  "metadata": {
    "colab": {
      "name": "mnist.ipynb",
      "provenance": [],
      "collapsed_sections": []
    },
    "kernelspec": {
      "name": "python3",
      "display_name": "Python 3"
    },
    "language_info": {
      "name": "python"
    },
    "accelerator": "GPU"
  },
  "cells": [
    {
      "cell_type": "code",
      "execution_count": null,
      "metadata": {
        "id": "IAq08akq8Y-L",
        "colab": {
          "base_uri": "https://localhost:8080/"
        },
        "outputId": "7aeed3ea-caea-4633-ad4b-0ad80c3640a5"
      },
      "outputs": [
        {
          "output_type": "stream",
          "name": "stdout",
          "text": [
            "Mounted at /content/drive\n"
          ]
        }
      ],
      "source": [
        "from google.colab import drive\n",
        "drive.mount('/content/drive')\n",
        "\n",
        "import sys\n",
        "sys.path.append('/content/drive/MyDrive/Colab Notebooks')\n",
        "\n",
        "# from IPython.core.debugger import set_trace\n",
        "# set_trace()"
      ]
    },
    {
      "cell_type": "code",
      "source": [
        "import tarfile\n",
        "from PIL import Image"
      ],
      "metadata": {
        "id": "8Wa9E0Mp9brG"
      },
      "execution_count": null,
      "outputs": []
    },
    {
      "cell_type": "code",
      "source": [
        "pathToTar = '/content/drive/MyDrive/DataSets/mnist/mnist_png.tar.gz'\n",
        "\n",
        "tar = tarfile.open(pathToTar, \"r:gz\")\n",
        "tar.extractall('/content/sample_data/')"
      ],
      "metadata": {
        "id": "2a_erCSc9gBt"
      },
      "execution_count": null,
      "outputs": []
    },
    {
      "cell_type": "code",
      "source": [
        "import torch\n",
        "import torch.nn as nn\n",
        "import torch.optim as optim\n",
        "from torch.utils.data import DataLoader\n",
        "from torch.utils.data import sampler\n",
        "\n",
        "import torchvision.datasets as dset\n",
        "import torchvision.transforms as T\n",
        "\n",
        "import matplotlib.pyplot as plt\n",
        "\n",
        "import os\n",
        "\n",
        "import FunctionsForNets as myFunc\n",
        "\n",
        "USE_GPU = True\n",
        "dtype = torch.float32 # We will be using float throughout this tutorial.\n",
        "\n",
        "if USE_GPU and torch.cuda.is_available():\n",
        "  device = torch.device('cuda')\n",
        "else:\n",
        "  device = torch.device('cpu')\n",
        "\n",
        "print(device)"
      ],
      "metadata": {
        "id": "v-rQOjC59h1o",
        "colab": {
          "base_uri": "https://localhost:8080/"
        },
        "outputId": "3b904a21-cdeb-4e0e-80eb-6f4b4dc29614"
      },
      "execution_count": null,
      "outputs": [
        {
          "output_type": "stream",
          "name": "stdout",
          "text": [
            "cuda\n"
          ]
        }
      ]
    },
    {
      "cell_type": "code",
      "source": [
        "trainTransforms = T.Compose([\n",
        "    T.ToTensor(),\n",
        "    T.Normalize(mean=(0.4914, 0.4822, 0.4465), std=(0.2023, 0.1994, 0.2010)),\n",
        "])\n",
        "\n",
        "# validTransforms = T.Compose([\n",
        "#     T.ToTensor(),\n",
        "#     T.Normalize(mean=(0.4914, 0.4822, 0.4465), std=(0.2023, 0.1994, 0.2010))\n",
        "# ])\n",
        "\n",
        "testTransforms = T.Compose([\n",
        "    T.ToTensor(),\n",
        "    T.Normalize(mean=(0.4914, 0.4822, 0.4465), std=(0.2023, 0.1994, 0.2010))\n",
        "])"
      ],
      "metadata": {
        "id": "cAy8rkLH9k--"
      },
      "execution_count": null,
      "outputs": []
    },
    {
      "cell_type": "code",
      "source": [
        "rootPath = '/content/sample_data/mnist_png'\n",
        "trainPath = os.path.join(rootPath, 'training')\n",
        "testPath = os.path.join(rootPath, 'testing')\n",
        "# validPath = os.path.join(rootPath, 'ValidImages')\n",
        "\n",
        "if not (os.path.exists(trainPath) and os.path.exists(testPath)): #and os.path.exists(validPath)):\n",
        "  print('Could not find dataset')\n",
        "\n",
        "trainSet = dset.ImageFolder(trainPath, trainTransforms)\n",
        "# validSet = dset.ImageFolder(validPath, validTransforms)\n",
        "testSet = dset.ImageFolder(testPath, testTransforms)"
      ],
      "metadata": {
        "id": "JOysg_z2AavQ"
      },
      "execution_count": null,
      "outputs": []
    },
    {
      "cell_type": "code",
      "source": [
        "x, y = trainSet[1000]\n",
        "print(len(trainSet))\n",
        "\n",
        "className = list(trainSet.class_to_idx.keys())[list(trainSet.class_to_idx.values()).index(y)] # Get name of class\n",
        "plt.title(className)\n",
        "plt.imshow(x.permute(1, 2, 0))\n",
        "print('image size - ', x.shape)\n",
        "print('Num_classes - ', len(trainSet.class_to_idx))"
      ],
      "metadata": {
        "colab": {
          "base_uri": "https://localhost:8080/",
          "height": 350
        },
        "id": "16C9fo5WAdx2",
        "outputId": "0589fdfa-16c6-4a0b-ff4f-a9a4730a0562"
      },
      "execution_count": null,
      "outputs": [
        {
          "output_type": "stream",
          "name": "stderr",
          "text": [
            "Clipping input data to the valid range for imshow with RGB data ([0..1] for floats or [0..255] for integers).\n"
          ]
        },
        {
          "output_type": "stream",
          "name": "stdout",
          "text": [
            "60000\n",
            "image size -  torch.Size([3, 28, 28])\n",
            "Num_classes -  10\n"
          ]
        },
        {
          "output_type": "display_data",
          "data": {
            "image/png": "[encoded data removed]",
            "text/plain": [
              "<Figure size 432x288 with 1 Axes>"
            ]
          },
          "metadata": {
            "needs_background": "light"
          }
        }
      ]
    },
    {
      "cell_type": "code",
      "source": [
        "num_samples = 60000\n",
        "num_valid = 4000\n",
        "num_train = num_samples - num_valid\n",
        "trainLoader = DataLoader(trainSet, batch_size=16, sampler=sampler.SubsetRandomSampler(range(0, num_train)))\n",
        "validLoader = DataLoader(trainSet, batch_size=16, sampler=sampler.SubsetRandomSampler(range(num_train, num_samples)))\n",
        "testLoader = DataLoader(testSet, batch_size=16)"
      ],
      "metadata": {
        "id": "7SNBNWY7DL1o"
      },
      "execution_count": null,
      "outputs": []
    },
    {
      "cell_type": "code",
      "source": [
        "class SmallConvNet(nn.Module):\n",
        "\n",
        "    def __init__(self, image_channels, hidden_channels, num_classes):\n",
        "\n",
        "        super().__init__()\n",
        "\n",
        "        self.conv1 = nn.Conv2d(image_channels, hidden_channels[0], kernel_size = 3, stride = 1, padding = 1)\n",
        "        self.conv2 = nn.Conv2d(hidden_channels[0], hidden_channels[1], kernel_size = 3, stride = 1, padding = 1)\n",
        "        self.conv3 = nn.Conv2d(hidden_channels[1], hidden_channels[2], kernel_size = 3, stride = 1, padding = 1)\n",
        "\n",
        "        self.bn1 = nn.BatchNorm2d(hidden_channels[0])\n",
        "        self.bn2 = nn.BatchNorm2d(hidden_channels[1])\n",
        "        self.bn3 = nn.BatchNorm2d(hidden_channels[2])\n",
        "\n",
        "        self.relu = nn.ReLU()\n",
        "        self.pool = nn.MaxPool2d(2, 2)\n",
        "\n",
        "        self.fc1 = nn.Linear(7 * 7 * hidden_channels[2], 100)\n",
        "        self.fc2 = nn.Linear(100, num_classes)\n",
        "        self.drop = nn.Dropout(p = 0.5)\n",
        "\n",
        "    def forward(self, x):\n",
        "\n",
        "        x = self.conv1(x)\n",
        "        x = self.bn1(x)\n",
        "        x = self.relu(x)\n",
        "\n",
        "        x = self.conv2(x)\n",
        "        x = self.bn2(x)\n",
        "        x = self.relu(x)\n",
        "        x = self.pool(x)\n",
        "\n",
        "        x = self.conv3(x)\n",
        "        x = self.bn3(x)\n",
        "        x = self.relu(x)\n",
        "        x = self.pool(x)\n",
        "\n",
        "        x = x.reshape(x.shape[0], -1)\n",
        "        x = self.fc1(x)\n",
        "        x = self.drop(x)\n",
        "        x = self.fc2(x)\n",
        "\n",
        "        return x\n",
        "\n",
        "        "
      ],
      "metadata": {
        "id": "vuTq-CdQEFdN"
      },
      "execution_count": null,
      "outputs": []
    },
    {
      "cell_type": "code",
      "source": [
        "model = SmallConvNet(3, [64, 128, 256], 10)\n",
        "optimizer = optim.SGD(model.parameters(), lr=0.001, momentum=0.9)"
      ],
      "metadata": {
        "id": "QMn78x0EIjLG"
      },
      "execution_count": null,
      "outputs": []
    },
    {
      "cell_type": "code",
      "source": [
        "myFunc.train_model(model, optimizer, trainLoader, validLoader, num_epoch=2, device=device, printAndSaveEvery=100, savePath='/content/drive/MyDrive/MnistModels')"
      ],
      "metadata": {
        "colab": {
          "base_uri": "https://localhost:8080/",
          "height": 1000
        },
        "id": "oXEM8w4HJ4R4",
        "outputId": "622cef5d-17d2-4620-d573-9fcf9fbb7238"
      },
      "execution_count": null,
      "outputs": [
        {
          "output_type": "stream",
          "name": "stdout",
          "text": [
            "Starting new training\n",
            "Start 0 epoch\n",
            "Iteration 100:\n",
            "Got 1444 / 1616 correct (89.36) in train\n",
            "Got 1663 / 4000 correct (41.58) in validation\n",
            "Goten new best val accuracy. Save new best model\n",
            "Iteration 200:\n",
            "Got 1531 / 1616 correct (94.74) in train\n",
            "Got 2774 / 4000 correct (69.35) in validation\n",
            "Goten new best val accuracy. Save new best model\n",
            "Iteration 300:\n",
            "Got 1541 / 1616 correct (95.36) in train\n",
            "Got 2903 / 4000 correct (72.58) in validation\n",
            "Goten new best val accuracy. Save new best model\n",
            "Iteration 400:\n",
            "Got 1557 / 1616 correct (96.35) in train\n",
            "Got 3620 / 4000 correct (90.50) in validation\n",
            "Goten new best val accuracy. Save new best model\n",
            "Iteration 500:\n",
            "Got 1573 / 1616 correct (97.34) in train\n",
            "Got 3697 / 4000 correct (92.42) in validation\n",
            "Goten new best val accuracy. Save new best model\n",
            "Iteration 600:\n",
            "Got 1566 / 1616 correct (96.91) in train\n",
            "Got 3312 / 4000 correct (82.80) in validation\n",
            "Iteration 700:\n",
            "Got 1568 / 1616 correct (97.03) in train\n",
            "Got 3600 / 4000 correct (90.00) in validation\n",
            "Iteration 800:\n",
            "Got 1572 / 1616 correct (97.28) in train\n",
            "Got 3850 / 4000 correct (96.25) in validation\n",
            "Goten new best val accuracy. Save new best model\n",
            "Iteration 900:\n",
            "Got 1578 / 1616 correct (97.65) in train\n",
            "Got 3453 / 4000 correct (86.33) in validation\n",
            "Iteration 1000:\n",
            "Got 1578 / 1616 correct (97.65) in train\n",
            "Got 3772 / 4000 correct (94.30) in validation\n",
            "Iteration 1100:\n",
            "Got 1582 / 1616 correct (97.90) in train\n",
            "Got 3628 / 4000 correct (90.70) in validation\n",
            "Iteration 1200:\n",
            "Got 1573 / 1616 correct (97.34) in train\n",
            "Got 3883 / 4000 correct (97.08) in validation\n",
            "Goten new best val accuracy. Save new best model\n",
            "Iteration 1300:\n",
            "Got 1574 / 1616 correct (97.40) in train\n",
            "Got 3778 / 4000 correct (94.45) in validation\n",
            "Iteration 1400:\n",
            "Got 1590 / 1616 correct (98.39) in train\n",
            "Got 3796 / 4000 correct (94.90) in validation\n",
            "Iteration 1500:\n",
            "Got 1570 / 1616 correct (97.15) in train\n",
            "Got 3561 / 4000 correct (89.03) in validation\n",
            "Iteration 1600:\n",
            "Got 1588 / 1616 correct (98.27) in train\n",
            "Got 3789 / 4000 correct (94.73) in validation\n"
          ]
        },
        {
          "output_type": "error",
          "ename": "KeyboardInterrupt",
          "evalue": "ignored",
          "traceback": [
            "\u001b[0;31m---------------------------------------------------------------------------\u001b[0m",
            "\u001b[0;31mKeyboardInterrupt\u001b[0m                         Traceback (most recent call last)",
            "\u001b[0;32m<ipython-input-14-05bef362388d>\u001b[0m in \u001b[0;36m<module>\u001b[0;34m()\u001b[0m\n\u001b[0;32m----> 1\u001b[0;31m \u001b[0mmyFunc\u001b[0m\u001b[0;34m.\u001b[0m\u001b[0mtrain_model\u001b[0m\u001b[0;34m(\u001b[0m\u001b[0mmodel\u001b[0m\u001b[0;34m,\u001b[0m \u001b[0moptimizer\u001b[0m\u001b[0;34m,\u001b[0m \u001b[0mtrainLoader\u001b[0m\u001b[0;34m,\u001b[0m \u001b[0mvalidLoader\u001b[0m\u001b[0;34m,\u001b[0m \u001b[0mnum_epoch\u001b[0m\u001b[0;34m=\u001b[0m\u001b[0;36m2\u001b[0m\u001b[0;34m,\u001b[0m \u001b[0mdevice\u001b[0m\u001b[0;34m=\u001b[0m\u001b[0mdevice\u001b[0m\u001b[0;34m,\u001b[0m \u001b[0mprintAndSaveEvery\u001b[0m\u001b[0;34m=\u001b[0m\u001b[0;36m100\u001b[0m\u001b[0;34m,\u001b[0m \u001b[0msavePath\u001b[0m\u001b[0;34m=\u001b[0m\u001b[0;34m'/content/drive/MyDrive/MnistModels'\u001b[0m\u001b[0;34m)\u001b[0m\u001b[0;34m\u001b[0m\u001b[0;34m\u001b[0m\u001b[0m\n\u001b[0m",
            "\u001b[0;32m/content/drive/MyDrive/Colab Notebooks/FunctionsForNets.py\u001b[0m in \u001b[0;36mtrain_model\u001b[0;34m(model, optimizer, trainLoader, validationLoader, num_epoch, device, printAndSaveEvery, continueTraining, savePath)\u001b[0m\n\u001b[1;32m     69\u001b[0m       \u001b[0my\u001b[0m \u001b[0;34m=\u001b[0m \u001b[0my\u001b[0m\u001b[0;34m.\u001b[0m\u001b[0mto\u001b[0m\u001b[0;34m(\u001b[0m\u001b[0mdevice\u001b[0m\u001b[0;34m=\u001b[0m\u001b[0mdevice\u001b[0m\u001b[0;34m,\u001b[0m \u001b[0mdtype\u001b[0m\u001b[0;34m=\u001b[0m\u001b[0mtorch\u001b[0m\u001b[0;34m.\u001b[0m\u001b[0mlong\u001b[0m\u001b[0;34m)\u001b[0m\u001b[0;34m\u001b[0m\u001b[0;34m\u001b[0m\u001b[0m\n\u001b[1;32m     70\u001b[0m \u001b[0;34m\u001b[0m\u001b[0m\n\u001b[0;32m---> 71\u001b[0;31m       \u001b[0mscores\u001b[0m \u001b[0;34m=\u001b[0m \u001b[0mmodel\u001b[0m\u001b[0;34m(\u001b[0m\u001b[0mx\u001b[0m\u001b[0;34m)\u001b[0m\u001b[0;34m\u001b[0m\u001b[0;34m\u001b[0m\u001b[0m\n\u001b[0m\u001b[1;32m     72\u001b[0m       \u001b[0mloss\u001b[0m \u001b[0;34m=\u001b[0m \u001b[0mF\u001b[0m\u001b[0;34m.\u001b[0m\u001b[0mcross_entropy\u001b[0m\u001b[0;34m(\u001b[0m\u001b[0mscores\u001b[0m\u001b[0;34m,\u001b[0m \u001b[0my\u001b[0m\u001b[0;34m)\u001b[0m\u001b[0;34m\u001b[0m\u001b[0;34m\u001b[0m\u001b[0m\n\u001b[1;32m     73\u001b[0m \u001b[0;34m\u001b[0m\u001b[0m\n",
            "\u001b[0;32m/usr/local/lib/python3.7/dist-packages/torch/nn/modules/module.py\u001b[0m in \u001b[0;36m_call_impl\u001b[0;34m(self, *input, **kwargs)\u001b[0m\n\u001b[1;32m   1100\u001b[0m         if not (self._backward_hooks or self._forward_hooks or self._forward_pre_hooks or _global_backward_hooks\n\u001b[1;32m   1101\u001b[0m                 or _global_forward_hooks or _global_forward_pre_hooks):\n\u001b[0;32m-> 1102\u001b[0;31m             \u001b[0;32mreturn\u001b[0m \u001b[0mforward_call\u001b[0m\u001b[0;34m(\u001b[0m\u001b[0;34m*\u001b[0m\u001b[0minput\u001b[0m\u001b[0;34m,\u001b[0m \u001b[0;34m**\u001b[0m\u001b[0mkwargs\u001b[0m\u001b[0;34m)\u001b[0m\u001b[0;34m\u001b[0m\u001b[0;34m\u001b[0m\u001b[0m\n\u001b[0m\u001b[1;32m   1103\u001b[0m         \u001b[0;31m# Do not call functions when jit is used\u001b[0m\u001b[0;34m\u001b[0m\u001b[0;34m\u001b[0m\u001b[0;34m\u001b[0m\u001b[0m\n\u001b[1;32m   1104\u001b[0m         \u001b[0mfull_backward_hooks\u001b[0m\u001b[0;34m,\u001b[0m \u001b[0mnon_full_backward_hooks\u001b[0m \u001b[0;34m=\u001b[0m \u001b[0;34m[\u001b[0m\u001b[0;34m]\u001b[0m\u001b[0;34m,\u001b[0m \u001b[0;34m[\u001b[0m\u001b[0;34m]\u001b[0m\u001b[0;34m\u001b[0m\u001b[0;34m\u001b[0m\u001b[0m\n",
            "\u001b[0;32m<ipython-input-10-48851b5a2e40>\u001b[0m in \u001b[0;36mforward\u001b[0;34m(self, x)\u001b[0m\n\u001b[1;32m     37\u001b[0m \u001b[0;34m\u001b[0m\u001b[0m\n\u001b[1;32m     38\u001b[0m         \u001b[0mx\u001b[0m \u001b[0;34m=\u001b[0m \u001b[0mx\u001b[0m\u001b[0;34m.\u001b[0m\u001b[0mreshape\u001b[0m\u001b[0;34m(\u001b[0m\u001b[0mx\u001b[0m\u001b[0;34m.\u001b[0m\u001b[0mshape\u001b[0m\u001b[0;34m[\u001b[0m\u001b[0;36m0\u001b[0m\u001b[0;34m]\u001b[0m\u001b[0;34m,\u001b[0m \u001b[0;34m-\u001b[0m\u001b[0;36m1\u001b[0m\u001b[0;34m)\u001b[0m\u001b[0;34m\u001b[0m\u001b[0;34m\u001b[0m\u001b[0m\n\u001b[0;32m---> 39\u001b[0;31m         \u001b[0mx\u001b[0m \u001b[0;34m=\u001b[0m \u001b[0mself\u001b[0m\u001b[0;34m.\u001b[0m\u001b[0mfc1\u001b[0m\u001b[0;34m(\u001b[0m\u001b[0mx\u001b[0m\u001b[0;34m)\u001b[0m\u001b[0;34m\u001b[0m\u001b[0;34m\u001b[0m\u001b[0m\n\u001b[0m\u001b[1;32m     40\u001b[0m         \u001b[0mx\u001b[0m \u001b[0;34m=\u001b[0m \u001b[0mself\u001b[0m\u001b[0;34m.\u001b[0m\u001b[0mdrop\u001b[0m\u001b[0;34m(\u001b[0m\u001b[0mx\u001b[0m\u001b[0;34m)\u001b[0m\u001b[0;34m\u001b[0m\u001b[0;34m\u001b[0m\u001b[0m\n\u001b[1;32m     41\u001b[0m         \u001b[0mx\u001b[0m \u001b[0;34m=\u001b[0m \u001b[0mself\u001b[0m\u001b[0;34m.\u001b[0m\u001b[0mfc2\u001b[0m\u001b[0;34m(\u001b[0m\u001b[0mx\u001b[0m\u001b[0;34m)\u001b[0m\u001b[0;34m\u001b[0m\u001b[0;34m\u001b[0m\u001b[0m\n",
            "\u001b[0;32m/usr/local/lib/python3.7/dist-packages/torch/nn/modules/module.py\u001b[0m in \u001b[0;36m_call_impl\u001b[0;34m(self, *input, **kwargs)\u001b[0m\n\u001b[1;32m   1100\u001b[0m         if not (self._backward_hooks or self._forward_hooks or self._forward_pre_hooks or _global_backward_hooks\n\u001b[1;32m   1101\u001b[0m                 or _global_forward_hooks or _global_forward_pre_hooks):\n\u001b[0;32m-> 1102\u001b[0;31m             \u001b[0;32mreturn\u001b[0m \u001b[0mforward_call\u001b[0m\u001b[0;34m(\u001b[0m\u001b[0;34m*\u001b[0m\u001b[0minput\u001b[0m\u001b[0;34m,\u001b[0m \u001b[0;34m**\u001b[0m\u001b[0mkwargs\u001b[0m\u001b[0;34m)\u001b[0m\u001b[0;34m\u001b[0m\u001b[0;34m\u001b[0m\u001b[0m\n\u001b[0m\u001b[1;32m   1103\u001b[0m         \u001b[0;31m# Do not call functions when jit is used\u001b[0m\u001b[0;34m\u001b[0m\u001b[0;34m\u001b[0m\u001b[0;34m\u001b[0m\u001b[0m\n\u001b[1;32m   1104\u001b[0m         \u001b[0mfull_backward_hooks\u001b[0m\u001b[0;34m,\u001b[0m \u001b[0mnon_full_backward_hooks\u001b[0m \u001b[0;34m=\u001b[0m \u001b[0;34m[\u001b[0m\u001b[0;34m]\u001b[0m\u001b[0;34m,\u001b[0m \u001b[0;34m[\u001b[0m\u001b[0;34m]\u001b[0m\u001b[0;34m\u001b[0m\u001b[0;34m\u001b[0m\u001b[0m\n",
            "\u001b[0;32m/usr/local/lib/python3.7/dist-packages/torch/nn/modules/linear.py\u001b[0m in \u001b[0;36mforward\u001b[0;34m(self, input)\u001b[0m\n\u001b[1;32m    101\u001b[0m \u001b[0;34m\u001b[0m\u001b[0m\n\u001b[1;32m    102\u001b[0m     \u001b[0;32mdef\u001b[0m \u001b[0mforward\u001b[0m\u001b[0;34m(\u001b[0m\u001b[0mself\u001b[0m\u001b[0;34m,\u001b[0m \u001b[0minput\u001b[0m\u001b[0;34m:\u001b[0m \u001b[0mTensor\u001b[0m\u001b[0;34m)\u001b[0m \u001b[0;34m->\u001b[0m \u001b[0mTensor\u001b[0m\u001b[0;34m:\u001b[0m\u001b[0;34m\u001b[0m\u001b[0;34m\u001b[0m\u001b[0m\n\u001b[0;32m--> 103\u001b[0;31m         \u001b[0;32mreturn\u001b[0m \u001b[0mF\u001b[0m\u001b[0;34m.\u001b[0m\u001b[0mlinear\u001b[0m\u001b[0;34m(\u001b[0m\u001b[0minput\u001b[0m\u001b[0;34m,\u001b[0m \u001b[0mself\u001b[0m\u001b[0;34m.\u001b[0m\u001b[0mweight\u001b[0m\u001b[0;34m,\u001b[0m \u001b[0mself\u001b[0m\u001b[0;34m.\u001b[0m\u001b[0mbias\u001b[0m\u001b[0;34m)\u001b[0m\u001b[0;34m\u001b[0m\u001b[0;34m\u001b[0m\u001b[0m\n\u001b[0m\u001b[1;32m    104\u001b[0m \u001b[0;34m\u001b[0m\u001b[0m\n\u001b[1;32m    105\u001b[0m     \u001b[0;32mdef\u001b[0m \u001b[0mextra_repr\u001b[0m\u001b[0;34m(\u001b[0m\u001b[0mself\u001b[0m\u001b[0;34m)\u001b[0m \u001b[0;34m->\u001b[0m \u001b[0mstr\u001b[0m\u001b[0;34m:\u001b[0m\u001b[0;34m\u001b[0m\u001b[0;34m\u001b[0m\u001b[0m\n",
            "\u001b[0;32m/usr/local/lib/python3.7/dist-packages/torch/nn/functional.py\u001b[0m in \u001b[0;36mlinear\u001b[0;34m(input, weight, bias)\u001b[0m\n\u001b[1;32m   1846\u001b[0m     \u001b[0;32mif\u001b[0m \u001b[0mhas_torch_function_variadic\u001b[0m\u001b[0;34m(\u001b[0m\u001b[0minput\u001b[0m\u001b[0;34m,\u001b[0m \u001b[0mweight\u001b[0m\u001b[0;34m,\u001b[0m \u001b[0mbias\u001b[0m\u001b[0;34m)\u001b[0m\u001b[0;34m:\u001b[0m\u001b[0;34m\u001b[0m\u001b[0;34m\u001b[0m\u001b[0m\n\u001b[1;32m   1847\u001b[0m         \u001b[0;32mreturn\u001b[0m \u001b[0mhandle_torch_function\u001b[0m\u001b[0;34m(\u001b[0m\u001b[0mlinear\u001b[0m\u001b[0;34m,\u001b[0m \u001b[0;34m(\u001b[0m\u001b[0minput\u001b[0m\u001b[0;34m,\u001b[0m \u001b[0mweight\u001b[0m\u001b[0;34m,\u001b[0m \u001b[0mbias\u001b[0m\u001b[0;34m)\u001b[0m\u001b[0;34m,\u001b[0m \u001b[0minput\u001b[0m\u001b[0;34m,\u001b[0m \u001b[0mweight\u001b[0m\u001b[0;34m,\u001b[0m \u001b[0mbias\u001b[0m\u001b[0;34m=\u001b[0m\u001b[0mbias\u001b[0m\u001b[0;34m)\u001b[0m\u001b[0;34m\u001b[0m\u001b[0;34m\u001b[0m\u001b[0m\n\u001b[0;32m-> 1848\u001b[0;31m     \u001b[0;32mreturn\u001b[0m \u001b[0mtorch\u001b[0m\u001b[0;34m.\u001b[0m\u001b[0m_C\u001b[0m\u001b[0;34m.\u001b[0m\u001b[0m_nn\u001b[0m\u001b[0;34m.\u001b[0m\u001b[0mlinear\u001b[0m\u001b[0;34m(\u001b[0m\u001b[0minput\u001b[0m\u001b[0;34m,\u001b[0m \u001b[0mweight\u001b[0m\u001b[0;34m,\u001b[0m \u001b[0mbias\u001b[0m\u001b[0;34m)\u001b[0m\u001b[0;34m\u001b[0m\u001b[0;34m\u001b[0m\u001b[0m\n\u001b[0m\u001b[1;32m   1849\u001b[0m \u001b[0;34m\u001b[0m\u001b[0m\n\u001b[1;32m   1850\u001b[0m \u001b[0;34m\u001b[0m\u001b[0m\n",
            "\u001b[0;31mKeyboardInterrupt\u001b[0m: "
          ]
        }
      ]
    },
    {
      "cell_type": "code",
      "source": [
        "checkpoint = torch.load('/content/drive/MyDrive/MnistModels/best_model.pt')\n",
        "\n",
        "model.load_state_dict(checkpoint['Model_state_dict'])\n",
        "\n",
        "optimizer = optim.SGD(model.parameters(), lr=0.00001, momentum=0.9)\n",
        "\n",
        "optimizer.load_state_dict(checkpoint['Optimizer_state_dict'])\n",
        "\n",
        "contTrain = {\n",
        "    'train_accs': checkpoint['Train_accs'],\n",
        "    'val_accs': checkpoint['Val_accs'],\n",
        "    'num_ep': checkpoint['Num_epoch']\n",
        "}\n",
        "train_acc, val_acc = myFunc.train_model(model, optimizer, trainLoader, validLoader, 2, device, \n",
        "                                        printAndSaveEvery=100, savePath='/content/drive/MyDrive/MnistModels', continueTraining=contTrain)"
      ],
      "metadata": {
        "colab": {
          "base_uri": "https://localhost:8080/"
        },
        "id": "Z_zY9ludO515",
        "outputId": "94fd88b4-e163-46ec-db20-d2982e5f9562"
      },
      "execution_count": null,
      "outputs": [
        {
          "output_type": "stream",
          "name": "stdout",
          "text": [
            "Continue training from 1 epoch\n",
            "Start 1 epoch\n",
            "Iteration 100:\n",
            "Got 1575 / 1616 correct (97.46) in train\n",
            "Got 3787 / 4000 correct (94.67) in validation\n",
            "Iteration 200:\n",
            "Got 1576 / 1616 correct (97.52) in train\n",
            "Got 3733 / 4000 correct (93.33) in validation\n",
            "Iteration 300:\n",
            "Got 1583 / 1616 correct (97.96) in train\n",
            "Got 3766 / 4000 correct (94.15) in validation\n",
            "Iteration 400:\n",
            "Got 1583 / 1616 correct (97.96) in train\n",
            "Got 3743 / 4000 correct (93.58) in validation\n",
            "Iteration 500:\n",
            "Got 1569 / 1616 correct (97.09) in train\n",
            "Got 3845 / 4000 correct (96.12) in validation\n",
            "Iteration 600:\n",
            "Got 1578 / 1616 correct (97.65) in train\n",
            "Got 3830 / 4000 correct (95.75) in validation\n",
            "Iteration 700:\n",
            "Got 1578 / 1616 correct (97.65) in train\n",
            "Got 3792 / 4000 correct (94.80) in validation\n",
            "Iteration 800:\n",
            "Got 1567 / 1616 correct (96.97) in train\n",
            "Got 3738 / 4000 correct (93.45) in validation\n",
            "Iteration 900:\n",
            "Got 1574 / 1616 correct (97.40) in train\n",
            "Got 3822 / 4000 correct (95.55) in validation\n",
            "Iteration 1000:\n",
            "Got 1595 / 1616 correct (98.70) in train\n",
            "Got 3862 / 4000 correct (96.55) in validation\n",
            "Iteration 1100:\n",
            "Got 1590 / 1616 correct (98.39) in train\n",
            "Got 3788 / 4000 correct (94.70) in validation\n",
            "Iteration 1200:\n",
            "Got 1601 / 1616 correct (99.07) in train\n",
            "Got 3821 / 4000 correct (95.53) in validation\n",
            "Iteration 1300:\n",
            "Got 1561 / 1616 correct (96.60) in train\n",
            "Got 3175 / 4000 correct (79.38) in validation\n",
            "Iteration 1400:\n",
            "Got 1590 / 1616 correct (98.39) in train\n",
            "Got 3723 / 4000 correct (93.08) in validation\n",
            "Iteration 1500:\n",
            "Got 1593 / 1616 correct (98.58) in train\n",
            "Got 3750 / 4000 correct (93.75) in validation\n",
            "Iteration 1600:\n",
            "Got 1590 / 1616 correct (98.39) in train\n",
            "Got 3723 / 4000 correct (93.08) in validation\n",
            "Iteration 1700:\n",
            "Got 1576 / 1616 correct (97.52) in train\n",
            "Got 3907 / 4000 correct (97.67) in validation\n",
            "Goten new best val accuracy. Save new best model\n",
            "Iteration 1800:\n",
            "Got 1582 / 1616 correct (97.90) in train\n",
            "Got 3792 / 4000 correct (94.80) in validation\n",
            "Iteration 1900:\n",
            "Got 1602 / 1616 correct (99.13) in train\n",
            "Got 3592 / 4000 correct (89.80) in validation\n",
            "Iteration 2000:\n",
            "Got 1594 / 1616 correct (98.64) in train\n",
            "Got 3826 / 4000 correct (95.65) in validation\n",
            "Iteration 2100:\n",
            "Got 1586 / 1616 correct (98.14) in train\n",
            "Got 3679 / 4000 correct (91.97) in validation\n",
            "Iteration 2200:\n",
            "Got 1592 / 1616 correct (98.51) in train\n",
            "Got 3705 / 4000 correct (92.62) in validation\n",
            "Iteration 2300:\n",
            "Got 1593 / 1616 correct (98.58) in train\n",
            "Got 3854 / 4000 correct (96.35) in validation\n",
            "Iteration 2400:\n",
            "Got 1592 / 1616 correct (98.51) in train\n",
            "Got 3732 / 4000 correct (93.30) in validation\n",
            "Iteration 2500:\n",
            "Got 1595 / 1616 correct (98.70) in train\n",
            "Got 3694 / 4000 correct (92.35) in validation\n",
            "Iteration 2600:\n",
            "Got 1601 / 1616 correct (99.07) in train\n",
            "Got 3785 / 4000 correct (94.62) in validation\n",
            "Iteration 2700:\n",
            "Got 1602 / 1616 correct (99.13) in train\n",
            "Got 3847 / 4000 correct (96.17) in validation\n",
            "Iteration 2800:\n",
            "Got 1594 / 1616 correct (98.64) in train\n",
            "Got 3784 / 4000 correct (94.60) in validation\n",
            "Iteration 2900:\n",
            "Got 1593 / 1616 correct (98.58) in train\n",
            "Got 3867 / 4000 correct (96.67) in validation\n",
            "Iteration 3000:\n",
            "Got 1584 / 1616 correct (98.02) in train\n",
            "Got 3807 / 4000 correct (95.17) in validation\n",
            "Iteration 3100:\n",
            "Got 1595 / 1616 correct (98.70) in train\n",
            "Got 3798 / 4000 correct (94.95) in validation\n",
            "Iteration 3200:\n",
            "Got 1583 / 1616 correct (97.96) in train\n",
            "Got 3790 / 4000 correct (94.75) in validation\n",
            "Iteration 3300:\n",
            "Got 1594 / 1616 correct (98.64) in train\n",
            "Got 3807 / 4000 correct (95.17) in validation\n",
            "Iteration 3400:\n",
            "Got 1598 / 1616 correct (98.89) in train\n",
            "Got 3868 / 4000 correct (96.70) in validation\n",
            "Got 1599 / 1616 correct (98.95) in train\n",
            "Got 3707 / 4000 correct (92.67) in validation\n"
          ]
        }
      ]
    },
    {
      "cell_type": "code",
      "source": [
        "def get_wrong_classificated(model, dataLoader):\n",
        "  \"\"\"\n",
        "  Get images that net classificated wrong\n",
        "  \"\"\"\n",
        "  cpu_device=torch.device('cpu')\n",
        "\n",
        "  model = model.to(device=cpu_device)\n",
        "\n",
        "  wrongSamples = []\n",
        "\n",
        "  model.eval()\n",
        "\n",
        "  with torch.no_grad():\n",
        "    for i, (x, y) in enumerate(dataLoader):\n",
        "      x = x.to(device=cpu_device, dtype=torch.float32)\n",
        "      y = y.to(device=cpu_device, dtype=torch.long)\n",
        "\n",
        "      scores = model(x)\n",
        "      _, preds = scores.max(1)\n",
        "\n",
        "      indexes_wrong = np.argwhere(preds.numpy() != y.numpy())\n",
        "      for j in indexes_wrong:\n",
        "          # from IPython.core.debugger import set_trace\n",
        "          # set_trace()\n",
        "          wrongSamples.append((x[j[0]], y[j[0]]))\n",
        "\n",
        "    print('Got %d wrong answers'% (len(wrongSamples)))\n",
        "    return wrongSamples\n"
      ],
      "metadata": {
        "id": "me428xdqROKp"
      },
      "execution_count": null,
      "outputs": []
    },
    {
      "cell_type": "code",
      "source": [
        "wrong_samples = get_wrong_classificated(model, testLoader)"
      ],
      "metadata": {
        "colab": {
          "base_uri": "https://localhost:8080/"
        },
        "id": "v9xnrdo4SJje",
        "outputId": "de0ef0f2-4bc5-44e5-ed17-a3b00b0c13aa"
      },
      "execution_count": null,
      "outputs": [
        {
          "output_type": "stream",
          "name": "stdout",
          "text": [
            "Got 230 wrong answers\n"
          ]
        }
      ]
    },
    {
      "cell_type": "code",
      "source": [
        "for i in range(4):\n",
        "    plt.subplot(1, 4, i+1)\n",
        "\n",
        "    randIndex = random.randint(1, len(wrong_samples))\n",
        "    plt.imshow(wrong_samples[randIndex][0].permute(1, 2, 0))\n",
        "    plt.title(wrong_samples[randIndex][1])"
      ],
      "metadata": {
        "colab": {
          "base_uri": "https://localhost:8080/",
          "height": 206
        },
        "id": "CH1HhAWya7Nw",
        "outputId": "d3a8c649-64df-4df0-f3d3-c1b48f284d57"
      },
      "execution_count": null,
      "outputs": [
        {
          "output_type": "stream",
          "name": "stderr",
          "text": [
            "Clipping input data to the valid range for imshow with RGB data ([0..1] for floats or [0..255] for integers).\n",
            "Clipping input data to the valid range for imshow with RGB data ([0..1] for floats or [0..255] for integers).\n",
            "Clipping input data to the valid range for imshow with RGB data ([0..1] for floats or [0..255] for integers).\n",
            "Clipping input data to the valid range for imshow with RGB data ([0..1] for floats or [0..255] for integers).\n"
          ]
        },
        {
          "output_type": "display_data",
          "data": {
            "image/png": "[encoded data removed]",
            "text/plain": [
              "<Figure size 432x288 with 4 Axes>"
            ]
          },
          "metadata": {
            "needs_background": "light"
          }
        }
      ]
    },
    {
      "cell_type": "code",
      "source": [
        "#Checking scripts\n",
        "import zipfile\n",
        "\n",
        "pathToZip = '/content/drive/MyDrive/TestMnist.zip'\n",
        "\n",
        "z = zipfile.ZipFile(pathToZip, 'r')\n",
        "z.extractall('/content/sample_data/')"
      ],
      "metadata": {
        "id": "EdLh1f5MAZVk"
      },
      "execution_count": null,
      "outputs": []
    },
    {
      "cell_type": "code",
      "source": [
        "%load_ext autoreload\n",
        "%autoreload 2"
      ],
      "metadata": {
        "id": "85E_sfQ-trTR"
      },
      "execution_count": 10,
      "outputs": []
    },
    {
      "cell_type": "code",
      "source": [
        "%cd /content/sample_data\n",
        "!python3 mnist.py --mode train --model MnistModel.pt --dataset train.csv\n",
        "!python3 mnist.py --mode inference --model MnistModel.pt --input test.csv --output out.csv\n",
        "!python3 evaluate.py --ground_truth test.csv --predictions out.csv\n"
      ],
      "metadata": {
        "id": "bhs55q7YA7yC",
        "colab": {
          "base_uri": "https://localhost:8080/"
        },
        "outputId": "3a12997d-1350-4a50-9022-9061c4e5cd60"
      },
      "execution_count": 12,
      "outputs": [
        {
          "output_type": "stream",
          "name": "stdout",
          "text": [
            "/content/sample_data\n",
            "Using cuda for model computations\n",
            "Starting training\n",
            "Start 0 epoch\n",
            "Iteration 200:\n",
            "Got 4953 / 5616 correct (0.882) in train\n",
            "Got 223 / 4000 correct (0.056) in validation\n",
            "Goten new best val accuracy. Save new best model\n",
            "Iteration 400:\n",
            "Got 5226 / 5616 correct (0.931) in train\n",
            "Got 3038 / 4000 correct (0.760) in validation\n",
            "Goten new best val accuracy. Save new best model\n",
            "Iteration 600:\n",
            "Got 5315 / 5616 correct (0.946) in train\n",
            "Got 3213 / 4000 correct (0.803) in validation\n",
            "Goten new best val accuracy. Save new best model\n",
            "Iteration 800:\n",
            "Got 5348 / 5616 correct (0.952) in train\n",
            "Got 3482 / 4000 correct (0.871) in validation\n",
            "Goten new best val accuracy. Save new best model\n",
            "Iteration 1000:\n",
            "Got 5346 / 5616 correct (0.952) in train\n",
            "Got 3332 / 4000 correct (0.833) in validation\n",
            "Iteration 1200:\n",
            "Got 5404 / 5616 correct (0.962) in train\n",
            "Got 3488 / 4000 correct (0.872) in validation\n",
            "Goten new best val accuracy. Save new best model\n",
            "Iteration 1400:\n",
            "Got 5424 / 5616 correct (0.966) in train\n",
            "Got 3622 / 4000 correct (0.906) in validation\n",
            "Goten new best val accuracy. Save new best model\n",
            "Iteration 1600:\n",
            "Got 5415 / 5616 correct (0.964) in train\n",
            "Got 3622 / 4000 correct (0.906) in validation\n",
            "Iteration 1800:\n",
            "Got 5454 / 5616 correct (0.971) in train\n",
            "Got 3575 / 4000 correct (0.894) in validation\n",
            "Iteration 2000:\n",
            "Got 5427 / 5616 correct (0.966) in train\n",
            "Got 3447 / 4000 correct (0.862) in validation\n",
            "Iteration 2200:\n",
            "Got 5488 / 5616 correct (0.977) in train\n",
            "Got 3637 / 4000 correct (0.909) in validation\n",
            "Goten new best val accuracy. Save new best model\n",
            "Iteration 2400:\n",
            "Got 5450 / 5616 correct (0.970) in train\n",
            "Got 3713 / 4000 correct (0.928) in validation\n",
            "Goten new best val accuracy. Save new best model\n",
            "Iteration 2600:\n",
            "Got 5453 / 5616 correct (0.971) in train\n",
            "Got 3627 / 4000 correct (0.907) in validation\n",
            "Iteration 2800:\n",
            "Got 5474 / 5616 correct (0.975) in train\n",
            "Got 3478 / 4000 correct (0.870) in validation\n",
            "Iteration 3000:\n",
            "Got 5501 / 5616 correct (0.980) in train\n",
            "Got 3614 / 4000 correct (0.904) in validation\n",
            "Iteration 3200:\n",
            "Got 5482 / 5616 correct (0.976) in train\n",
            "Got 3686 / 4000 correct (0.922) in validation\n",
            "Iteration 3400:\n",
            "Got 5501 / 5616 correct (0.980) in train\n",
            "Got 3657 / 4000 correct (0.914) in validation\n",
            "Got 5480 / 5616 correct (0.976) in train\n",
            "Got 3557 / 4000 correct (0.889) in validation\n",
            "Start 1 epoch\n",
            "Iteration 200:\n",
            "Got 5502 / 5616 correct (0.980) in train\n",
            "Got 3724 / 4000 correct (0.931) in validation\n",
            "Goten new best val accuracy. Save new best model\n",
            "Iteration 400:\n",
            "Got 5484 / 5616 correct (0.976) in train\n",
            "Got 3664 / 4000 correct (0.916) in validation\n",
            "Iteration 600:\n",
            "Got 5517 / 5616 correct (0.982) in train\n",
            "Got 3720 / 4000 correct (0.930) in validation\n",
            "Iteration 800:\n",
            "Got 5503 / 5616 correct (0.980) in train\n",
            "Got 3732 / 4000 correct (0.933) in validation\n",
            "Goten new best val accuracy. Save new best model\n",
            "Iteration 1000:\n",
            "Got 5507 / 5616 correct (0.981) in train\n",
            "Got 3747 / 4000 correct (0.937) in validation\n",
            "Goten new best val accuracy. Save new best model\n",
            "Iteration 1200:\n",
            "Got 5501 / 5616 correct (0.980) in train\n",
            "Got 3758 / 4000 correct (0.940) in validation\n",
            "Goten new best val accuracy. Save new best model\n",
            "Iteration 1400:\n",
            "Got 5513 / 5616 correct (0.982) in train\n",
            "Got 3752 / 4000 correct (0.938) in validation\n",
            "Iteration 1600:\n",
            "Got 5520 / 5616 correct (0.983) in train\n",
            "Got 3644 / 4000 correct (0.911) in validation\n",
            "Iteration 1800:\n",
            "Got 5500 / 5616 correct (0.979) in train\n",
            "Got 3669 / 4000 correct (0.917) in validation\n",
            "Iteration 2000:\n",
            "Got 5532 / 5616 correct (0.985) in train\n",
            "Got 3727 / 4000 correct (0.932) in validation\n",
            "Iteration 2200:\n",
            "Got 5528 / 5616 correct (0.984) in train\n",
            "Got 3685 / 4000 correct (0.921) in validation\n",
            "Iteration 2400:\n",
            "Got 5529 / 5616 correct (0.985) in train\n",
            "Got 3713 / 4000 correct (0.928) in validation\n",
            "Iteration 2600:\n",
            "Got 5520 / 5616 correct (0.983) in train\n",
            "Got 3729 / 4000 correct (0.932) in validation\n",
            "Iteration 2800:\n",
            "Got 5520 / 5616 correct (0.983) in train\n",
            "Got 3810 / 4000 correct (0.953) in validation\n",
            "Goten new best val accuracy. Save new best model\n",
            "Iteration 3000:\n",
            "Got 5534 / 5616 correct (0.985) in train\n",
            "Got 3819 / 4000 correct (0.955) in validation\n",
            "Goten new best val accuracy. Save new best model\n",
            "Iteration 3200:\n",
            "Got 5515 / 5616 correct (0.982) in train\n",
            "Got 3787 / 4000 correct (0.947) in validation\n",
            "Iteration 3400:\n",
            "Got 5529 / 5616 correct (0.985) in train\n",
            "Got 3736 / 4000 correct (0.934) in validation\n",
            "Got 5525 / 5616 correct (0.984) in train\n",
            "Got 3739 / 4000 correct (0.935) in validation\n",
            "Start 2 epoch\n",
            "Iteration 200:\n",
            "Got 5545 / 5616 correct (0.987) in train\n",
            "Got 3741 / 4000 correct (0.935) in validation\n",
            "Iteration 400:\n",
            "Got 5543 / 5616 correct (0.987) in train\n",
            "Got 3735 / 4000 correct (0.934) in validation\n",
            "Iteration 600:\n",
            "Got 5543 / 5616 correct (0.987) in train\n",
            "Got 3804 / 4000 correct (0.951) in validation\n",
            "Iteration 800:\n",
            "Got 5536 / 5616 correct (0.986) in train\n",
            "Got 3813 / 4000 correct (0.953) in validation\n",
            "Iteration 1000:\n",
            "Got 5529 / 5616 correct (0.985) in train\n",
            "Got 3850 / 4000 correct (0.963) in validation\n",
            "Goten new best val accuracy. Save new best model\n",
            "Iteration 1200:\n",
            "Got 5541 / 5616 correct (0.987) in train\n",
            "Got 3725 / 4000 correct (0.931) in validation\n",
            "Iteration 1400:\n",
            "Got 5545 / 5616 correct (0.987) in train\n",
            "Got 3804 / 4000 correct (0.951) in validation\n",
            "Iteration 1600:\n",
            "Got 5535 / 5616 correct (0.986) in train\n",
            "Got 3768 / 4000 correct (0.942) in validation\n",
            "Iteration 1800:\n",
            "Got 5531 / 5616 correct (0.985) in train\n",
            "Got 3836 / 4000 correct (0.959) in validation\n",
            "Iteration 2000:\n",
            "Got 5536 / 5616 correct (0.986) in train\n",
            "Got 3800 / 4000 correct (0.950) in validation\n",
            "Iteration 2200:\n",
            "Got 5545 / 5616 correct (0.987) in train\n",
            "Got 3808 / 4000 correct (0.952) in validation\n",
            "Iteration 2400:\n",
            "Got 5552 / 5616 correct (0.989) in train\n",
            "Got 3768 / 4000 correct (0.942) in validation\n",
            "Iteration 2600:\n",
            "Got 5542 / 5616 correct (0.987) in train\n",
            "Got 3831 / 4000 correct (0.958) in validation\n",
            "Iteration 2800:\n",
            "Got 5533 / 5616 correct (0.985) in train\n",
            "Got 3789 / 4000 correct (0.947) in validation\n",
            "Iteration 3000:\n",
            "Got 5548 / 5616 correct (0.988) in train\n",
            "Got 3736 / 4000 correct (0.934) in validation\n",
            "Iteration 3200:\n",
            "Got 5560 / 5616 correct (0.990) in train\n",
            "Got 3773 / 4000 correct (0.943) in validation\n",
            "Iteration 3400:\n",
            "Got 5562 / 5616 correct (0.990) in train\n",
            "Got 3769 / 4000 correct (0.942) in validation\n",
            "Got 5555 / 5616 correct (0.989) in train\n",
            "Got 3706 / 4000 correct (0.927) in validation\n",
            "Using cuda for model computations\n",
            "0 examples was predicted\n",
            "3200 examples was predicted\n",
            "6400 examples was predicted\n",
            "9600 examples was predicted\n",
            "Accuracy on the test set is 0.983 \n",
            "\n",
            "Confusion matrix is\n",
            " [[ 974    0    0    0    0    1    1    1    3    0]\n",
            " [   0 1123    2    4    0    1    0    0    5    0]\n",
            " [   2    1 1019    0    3    0    0    2    5    0]\n",
            " [   1    0    2  997    0    6    0    1    3    0]\n",
            " [   1    0    1    0  971    0    1    0    3    5]\n",
            " [   1    0    0    4    0  883    2    1    1    0]\n",
            " [   6    2    0    1    1    5  938    0    5    0]\n",
            " [   0    5   17    5    0    1    0  991    4    5]\n",
            " [   4    0    2    0    2    1    0    1  961    3]\n",
            " [   7    3    0    4    9    6    0    6    6  968]]\n"
          ]
        }
      ]
    }
  ]
}